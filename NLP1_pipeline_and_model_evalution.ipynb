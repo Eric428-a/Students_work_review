{
 "cells": [
  {
   "cell_type": "markdown",
   "id": "5b07cfe7-a9c8-4cb5-9f89-73f405f5789a",
   "metadata": {},
   "source": [
    "IN the Given project we have data set of depression patients and we have analyse them on the basis of there label and value \n",
    "we can achieve the result by using Natural language processing . With some preprocessing steps and model evaluation.\n",
    "we have Reddit dataset of depression patients."
   ]
  },
  {
   "cell_type": "markdown",
   "id": "5ab5f7e2-d79a-48ea-b6e0-1d55d53d5bbc",
   "metadata": {},
   "source": [
    "Import required libraries"
   ]
  },
  {
   "cell_type": "code",
   "execution_count": 36,
   "id": "6292b824-8acd-4d95-b3b2-13f5d84ac127",
   "metadata": {
    "tags": []
   },
   "outputs": [],
   "source": [
    "import numpy as np \n",
    "import pandas as pd \n",
    "import matplotlib.pyplot as plt \n",
    "import seaborn as sns \n",
    "import re"
   ]
  },
  {
   "cell_type": "markdown",
   "id": "11044d1e-3575-4196-867f-f66561c81807",
   "metadata": {},
   "source": [
    "Read dataset and Some data processing steps including description and value counts"
   ]
  },
  {
   "cell_type": "code",
   "execution_count": 37,
   "id": "3e1fb0da-54c4-4eae-8e4f-25148955e2b7",
   "metadata": {
    "tags": []
   },
   "outputs": [],
   "source": [
    "Data= pd.read_excel(\"Reddit.xlsx\")"
   ]
  },
  {
   "cell_type": "code",
   "execution_count": 38,
   "id": "e4fad13f-86ae-4091-8730-32762e19125f",
   "metadata": {
    "tags": []
   },
   "outputs": [
    {
     "data": {
      "text/html": [
       "<div>\n",
       "<style scoped>\n",
       "    .dataframe tbody tr th:only-of-type {\n",
       "        vertical-align: middle;\n",
       "    }\n",
       "\n",
       "    .dataframe tbody tr th {\n",
       "        vertical-align: top;\n",
       "    }\n",
       "\n",
       "    .dataframe thead th {\n",
       "        text-align: right;\n",
       "    }\n",
       "</style>\n",
       "<table border=\"1\" class=\"dataframe\">\n",
       "  <thead>\n",
       "    <tr style=\"text-align: right;\">\n",
       "      <th></th>\n",
       "      <th>text</th>\n",
       "      <th>label</th>\n",
       "      <th>Depressed_Control</th>\n",
       "    </tr>\n",
       "  </thead>\n",
       "  <tbody>\n",
       "    <tr>\n",
       "      <th>0</th>\n",
       "      <td>I recently went through a breakup and she said...</td>\n",
       "      <td>depression</td>\n",
       "      <td>0.0</td>\n",
       "    </tr>\n",
       "    <tr>\n",
       "      <th>1</th>\n",
       "      <td>I do not know how to navigate these feelings, ...</td>\n",
       "      <td>depression</td>\n",
       "      <td>0.0</td>\n",
       "    </tr>\n",
       "    <tr>\n",
       "      <th>2</th>\n",
       "      <td>So I have been with my bf for 5 months , and h...</td>\n",
       "      <td>depression</td>\n",
       "      <td>1.0</td>\n",
       "    </tr>\n",
       "    <tr>\n",
       "      <th>3</th>\n",
       "      <td>I am so exhausted of this. Just when I think I...</td>\n",
       "      <td>SuicideWatch</td>\n",
       "      <td>0.0</td>\n",
       "    </tr>\n",
       "    <tr>\n",
       "      <th>4</th>\n",
       "      <td>I have been severly bullied since i was 5 till...</td>\n",
       "      <td>depression</td>\n",
       "      <td>1.0</td>\n",
       "    </tr>\n",
       "  </tbody>\n",
       "</table>\n",
       "</div>"
      ],
      "text/plain": [
       "                                                text         label  \\\n",
       "0  I recently went through a breakup and she said...    depression   \n",
       "1  I do not know how to navigate these feelings, ...    depression   \n",
       "2  So I have been with my bf for 5 months , and h...    depression   \n",
       "3  I am so exhausted of this. Just when I think I...  SuicideWatch   \n",
       "4  I have been severly bullied since i was 5 till...    depression   \n",
       "\n",
       "   Depressed_Control  \n",
       "0                0.0  \n",
       "1                0.0  \n",
       "2                1.0  \n",
       "3                0.0  \n",
       "4                1.0  "
      ]
     },
     "execution_count": 38,
     "metadata": {},
     "output_type": "execute_result"
    }
   ],
   "source": [
    "Data.head()"
   ]
  },
  {
   "cell_type": "code",
   "execution_count": 39,
   "id": "4129535a-b8f8-4a70-b4f4-c77a1b139b78",
   "metadata": {
    "tags": []
   },
   "outputs": [
    {
     "data": {
      "text/plain": [
       "text                                                                                                                                                                                                                                                                                                                                                                                                                                                                                                                                                                                                                                                                                                                                                                                                                                                                                                                                                                                                                                                                                                                                                                                                                                                                                                                                                                                                                                                                                                                                                                    label         Depressed_Control\n",
       "&amp; see if anyone would feel bad about hurting me, yelling at me, abandoning me, neglecting me, &amp; abusing me. &amp; i hate to say it but i genuinely want people to feel like absolute shit about me being dead.. &amp; finally see how much pain they put me through. I want them to know that THEIR words &amp; THEIR actions caused me to take my life &amp; Ill be gone forever because of them.I want them to hurt the way i do. tbh, i really want to die JUST to see if anyone would care.                                                                                                                                                                                                                                                                                                                                                                                                                                                                                                                                                                                                                                                                                                                                                                                                                                                                                                                                                                                                                                                                 depression    0.0                  1\n",
       "Idk if it is placebo or really happening but i genuinely feel a bit better, id like if anyone shares a similar experience. Took a Vitamin C ampule and feeling better                                                                                                                                                                                                                                                                                                                                                                                                                                                                                                                                                                                                                                                                                                                                                                                                                                                                                                                                                                                                                                                                                                                                                                                                                                                                                                                                                                                                   depression    0.0                  1\n",
       "It is exactly what I am saying,girls my age get married,have careers,friends. I have failed,never been desired,but good enough for domestic shit I guess. I am tired,lonely and have no strength to fight. I am ugly,fat and a loser.                                                                                                                                                                                                                                                                                                                                                                                                                                                                                                                                                                                                                                                                                                                                                                                                                                                                                                                                                                                                                                                                                                                                                                                                                                                                                                                                   depression    0.0                  1\n",
       "It is really hard thinking of anything I would rather be than non existent. I am not the type to seek help, but I am empty. I am broken. I am alone. I am broken. I really want to be dead                                                                                                                                                                                                                                                                                                                                                                                                                                                                                                                                                                                                                                                                                                                                                                                                                                                                                                                                                                                                                                                                                                                                                                                                                                                                                                                                                                              SuicideWatch  0.0                  1\n",
       "It really seems like my place in life is just to get hurt again and again. No matter what I try, suffering just finds me somehow. Every year for the past 10 years has been gradually worse and I am done with hope and positivity. I do not have any dreams or goals in my life.Sometimes I feel like an old person looking back at life, I do not believe I will achieve or experience anything new in my life. I am crippled by my mental illness and trauma and it feels bitter to realize that this is what my life has become. All that trying and achieving in school is worth nothing. I see no end in my suffering                                                                                                                                                                                                                                                                                                                                                                                                                                                                                                                                                                                                                                                                                                                                                                                                                                                                                                                                             SuicideWatch  0.0                  1\n",
       "                                                                                                                                                                                                                                                                                                                                                                                                                                                                                                                                                                                                                                                                                                                                                                                                                                                                                                                                                                                                                                                                                                                                                                                                                                                                                                                                                                                                                                                                                                                                                                                                          ..\n",
       "I do not know how else to say this. My air conditioner is broke, my car is broke down I do not have a working washing machine, no money to fix it. I have barely any friends, no love life existing, and now I am leaving my moms house because we have been at each other's throats. I just do not know what do do anymore. I know some people have it worse than me but it is just so tough sometimes and I do not know what to do with myself. Oh and not to mention the fact my birthday is in 5 days. Happy birthday to me . Why me...                                                                                                                                                                                                                                                                                                                                                                                                                                                                                                                                                                                                                                                                                                                                                                                                                                                                                                                                                                                                                             depression    0.0                  1\n",
       "I do not know how to navigate these feelings, not that its a new feeling by any stretch. I just do not understand how I can go on from being so pleasantly fine to suicidal and self loathing within in minutes and not be able to step out of it. I have been suffering from poor mental health for over 10 years and I am about to turn 26 next week and I feel so ashamed for how serious my negative thoughts are. Covid was a hard transition especially having moved to a new city a few months before everything started locking down, but now I am here and settled and I have a loving partner, a great connection to their family, a really fun job and I finished my degree. But when I stop and look around I feel like nothing will ever be good enough for me and I will never be good enough, I will always have skin problems and bad teeth and acne. I will never be the artist I used to be (I have a Bachelor in fine art) because I do not have the same drive or passionate that I used to have for it. I will never have the career I built my entire plan around because I am losing my interest in art. I will never have the relationship with my family that I want because I could not stand to stay in my hometown. All I can feel is this tornado of my failures swirling around me all the damn time. It just seems that no matter how many positives come my way they do not last long enough to out weight the negatives. I do not really know what I am looking for I guess I just wanted to say this out loud, or whatever. 0 to 100  depression    0.0                  1\n",
       "I do not know if I should be happy about it or no. it is 50/50. I should have killed myself when I was 15. If I only knew things would turn out worse I would do it. it is sad. I lived like an asocial retard, and will die like one with noone even caring, no experience, no relationships, no achievments, nothing :D absolutely wasted 20 years. I almost died when I was born and I wish I fuciking did! Just a fucking 44 days more.                                                                                                                                                                                                                                                                                                                                                                                                                                                                                                                                                                                                                                                                                                                                                                                                                                                                                                                                                                                                                                                                                                                             SuicideWatch  0.0                  1\n",
       "I do not know if this is the right place for this.I just feel sad a lot, the only time I am not sad is when I am with friends, but as soon as that is gone its like a switch and I am sad again.I want to feel justified for having all these sad feelings and I do not want to get up, when I have all these good things around me. So sometimes I want bad things to happen to me like I just wish something bad could happen so I could feel justified, and wanting bad things to happen makes me feel like attention whore.I just feel like I have it much better off than most and I am selfish for feeling sad all the time I just wish I could just appreciate what good things I have but I cannot and I do not know why.I am really sorry this is probably all over the place and does not make sense. Why am I sad when everything is good?                                                                                                                                                                                                                                                                                                                                                                                                                                                                                                                                                                                                                                                                                                                   depression    0.0                  1\n",
       "you are lonely. I get it. I am too. You might have friends, family, a bf or a gf, people that you love.. but you still feel lonely. Like no one can even understand a tiny bit about you, about what you feel and how you live. it is like you are stuck in your mind, in a thick fog that nobody can enter and that you will not even try to leave. You might have hope. You might not.But tell yourself that : we are thousands and thousands feeling just like you. We all have our little foggy mind of our own and we are all stuck in there and nothing each of us feels is the same as someone else. Pain cannot be compared. We all feel it differently.So even when you are alone. Even when there is no hope. Think about all the other. Who are keeping this fog at bay as hard as they can. Think about us who are struggling to survive. Thousands of us are gone.. but even more even still fight it. So do not let go. We might not be together, but we are all linked somehow.you are not alone. you are not alone. Even if you are alone.                                                                                                                                                                                                                                                                                                                                                                                                                                                                                                              depression    0.0                  1\n",
       "Name: count, Length: 900, dtype: int64"
      ]
     },
     "execution_count": 39,
     "metadata": {},
     "output_type": "execute_result"
    }
   ],
   "source": [
    "Data.value_counts()"
   ]
  },
  {
   "cell_type": "markdown",
   "id": "235b7cdc-5d68-4c3a-a9f2-2882fd5a31e4",
   "metadata": {},
   "source": [
    "We can analyse the sentiments by using hugging face transformer directly\n",
    "with the help of pretrained model using transformer we can find the sentiment and score of the sentiment"
   ]
  },
  {
   "cell_type": "code",
   "execution_count": 40,
   "id": "76c85a4b-b724-4905-8204-6328fbf70b13",
   "metadata": {
    "tags": []
   },
   "outputs": [],
   "source": [
    "def to_sentiment(Depressed_Control):\n",
    "  if Depressed_Control >0.0:\n",
    "    return 1\n",
    "  elif Depressed_Control <0.0:\n",
    "    return 0.0\n",
    "  else: \n",
    "    return -1\n",
    "\n",
    "Data['sentiment'] = Data.Depressed_Control.apply(to_sentiment)"
   ]
  },
  {
   "cell_type": "code",
   "execution_count": 41,
   "id": "333a368f-b928-4b39-a588-393ded171719",
   "metadata": {
    "tags": []
   },
   "outputs": [],
   "source": [
    "classes = [\"positive\",\"negative\",\"neutral\"]"
   ]
  },
  {
   "cell_type": "code",
   "execution_count": 42,
   "id": "b23c7ccc-05a4-4b7c-b2bb-7800c79082ae",
   "metadata": {
    "tags": []
   },
   "outputs": [
    {
     "data": {
      "image/png": "[encoded data removed]",
      "text/plain": [
       "<Figure size 640x480 with 1 Axes>"
      ]
     },
     "metadata": {},
     "output_type": "display_data"
    }
   ],
   "source": [
    "ax = sns.countplot(Train.Depressed_Control)\n",
    "plt.xlabel('Depressed_Control')\n",
    "ax.set_xticklabels(classes);"
   ]
  },
  {
   "cell_type": "markdown",
   "id": "ec14115e-1b70-46c9-89cc-a71d599d498c",
   "metadata": {},
   "source": [
    "Lets use the transformer and pretrained model for text classification and the sentiment analysis"
   ]
  },
  {
   "cell_type": "code",
   "execution_count": 43,
   "id": "70d33cc5-149b-48b5-9098-f873fdc5f340",
   "metadata": {
    "tags": []
   },
   "outputs": [
    {
     "name": "stderr",
     "output_type": "stream",
     "text": [
      "Some weights of the model checkpoint at cardiffnlp/twitter-roberta-base-sentiment-latest were not used when initializing RobertaForSequenceClassification: ['roberta.pooler.dense.weight', 'roberta.pooler.dense.bias']\n",
      "- This IS expected if you are initializing RobertaForSequenceClassification from the checkpoint of a model trained on another task or with another architecture (e.g. initializing a BertForSequenceClassification model from a BertForPreTraining model).\n",
      "- This IS NOT expected if you are initializing RobertaForSequenceClassification from the checkpoint of a model that you expect to be exactly identical (initializing a BertForSequenceClassification model from a BertForSequenceClassification model).\n"
     ]
    },
    {
     "name": "stdout",
     "output_type": "stream",
     "text": [
      "[{'label': 'negative', 'score': 0.9244203567504883}]\n"
     ]
    }
   ],
   "source": [
    "from transformers import pipeline\n",
    "\n",
    "model_id = \"cardiffnlp/twitter-roberta-base-sentiment-latest\"\n",
    "\n",
    "sentiment_pipe = pipeline(\"sentiment-analysis\", model=model_id)\n",
    "print(sentiment_pipe(Data.text[100]))"
   ]
  },
  {
   "cell_type": "code",
   "execution_count": null,
   "id": "9fa90791-a7a3-4606-be70-a9dbdf3c8c37",
   "metadata": {},
   "outputs": [],
   "source": []
  },
  {
   "cell_type": "code",
   "execution_count": 44,
   "id": "1ed23bf8-6224-4b7e-a2b9-54f725143fbf",
   "metadata": {
    "tags": []
   },
   "outputs": [
    {
     "data": {
      "text/plain": [
       "[{'label': 'negative', 'score': 0.9189061522483826}]"
      ]
     },
     "execution_count": 44,
     "metadata": {},
     "output_type": "execute_result"
    }
   ],
   "source": [
    "sentiment_pipe(Train.text[3])"
   ]
  },
  {
   "cell_type": "code",
   "execution_count": 45,
   "id": "1a09543a-71f7-40f3-80d8-e3f3bc0755c6",
   "metadata": {
    "tags": []
   },
   "outputs": [
    {
     "data": {
      "text/plain": [
       "[{'label': 'negative', 'score': 0.8741094470024109}]"
      ]
     },
     "execution_count": 45,
     "metadata": {},
     "output_type": "execute_result"
    }
   ],
   "source": [
    "sentiment_pipe(Train.text[1])"
   ]
  },
  {
   "cell_type": "code",
   "execution_count": null,
   "id": "63ec68de-c418-423c-b727-accbf5c0bda6",
   "metadata": {},
   "outputs": [],
   "source": []
  },
  {
   "cell_type": "markdown",
   "id": "73aaabc0-f19a-41ab-b881-7920d09de5e5",
   "metadata": {},
   "source": [
    "ABOVE METHOD IS USED TO IDENTIFY THE SENTIMENT AND SCORE FOR THE TEXT GIVEN ABOVE "
   ]
  },
  {
   "cell_type": "markdown",
   "id": "525e60a0-e5e1-403b-a1ce-85410fe8a668",
   "metadata": {},
   "source": [
    "WE can perform some operations on the train data Like some data cleaning and data preprocessing steps "
   ]
  },
  {
   "cell_type": "markdown",
   "id": "3aeda660-ddce-4f70-8f67-8e4c04972a3c",
   "metadata": {},
   "source": [
    "Data Cleaning and Data preprocessing"
   ]
  },
  {
   "cell_type": "code",
   "execution_count": 46,
   "id": "ea38c010-311c-4ad6-b5c5-43c647e8b4f1",
   "metadata": {
    "tags": []
   },
   "outputs": [],
   "source": [
    "import re"
   ]
  },
  {
   "cell_type": "code",
   "execution_count": 47,
   "id": "f13394ad-e9ee-45d3-b814-3ad27fedb04a",
   "metadata": {
    "tags": []
   },
   "outputs": [],
   "source": [
    "def remove_punctuations(data):\n",
    "    punct_tag=re.compile(r'[^\\w\\s]')\n",
    "    data=punct_tag.sub(r'',data)\n",
    "    return data\n",
    "Data['text']=Data['text'].apply(lambda z: remove_punctuations(z))"
   ]
  },
  {
   "cell_type": "code",
   "execution_count": 48,
   "id": "6477fe1e-281f-49b1-814f-c694ffc75850",
   "metadata": {
    "tags": []
   },
   "outputs": [],
   "source": [
    "def remove_html(data):\n",
    "    html_tag=re.compile(r'<.*?>')\n",
    "    data=html_tag.sub(r'',data)\n",
    "    return data\n",
    "Data['text']=Data['text'].apply(lambda z: remove_html(z))"
   ]
  },
  {
   "cell_type": "code",
   "execution_count": 49,
   "id": "e3835e65-9171-4e67-a98f-a61eddd5fe93",
   "metadata": {
    "tags": []
   },
   "outputs": [],
   "source": [
    "def remove_url(data):\n",
    "    url_clean= re.compile(r\"https://\\S+|www\\.\\S+\")\n",
    "    data=url_clean.sub(r'',data)\n",
    "    return data\n",
    "Data['text']=Data['text'].apply(lambda z: remove_url(z))"
   ]
  },
  {
   "cell_type": "code",
   "execution_count": 50,
   "id": "c6437f46-6637-4866-97ee-0e77272bd6ba",
   "metadata": {
    "tags": []
   },
   "outputs": [],
   "source": [
    "def remove_emoji(data):\n",
    "    emoji_clean= re.compile(\"[\"\n",
    "                           u\"\\U0001F600-\\U0001F64F\"  # emoticons\n",
    "                           u\"\\U0001F300-\\U0001F5FF\"  # symbols & pictographs\n",
    "                           u\"\\U0001F680-\\U0001F6FF\"  # transport & map symbols\n",
    "                           u\"\\U0001F1E0-\\U0001F1FF\"  # flags (iOS)\n",
    "                           u\"\\U00002702-\\U000027B0\"\n",
    "                           u\"\\U000024C2-\\U0001F251\"\n",
    "                           \"]+\", flags=re.UNICODE)\n",
    "    data=emoji_clean.sub(r'',data)\n",
    "    url_clean= re.compile(r\"https://\\S+|www\\.\\S+\")\n",
    "    data=url_clean.sub(r'',data)\n",
    "    return data\n",
    "Data['text']=Data['text'].apply(lambda z: remove_emoji(z))"
   ]
  },
  {
   "cell_type": "code",
   "execution_count": 51,
   "id": "8ccf3d18-8ac0-4da1-9d05-695d1631d15b",
   "metadata": {
    "tags": []
   },
   "outputs": [],
   "source": [
    "def clean_text(text):  \n",
    "    \n",
    "    # 1. Removing html tags\n",
    "    review_text = BeautifulSoup(Data['text'],\"tsv\").get_text()\n",
    "    \n",
    "    # 2. Retaining only alphabets.\n",
    "    review_text = re.sub(\"[^a-zA-Z]\",\" \",review_text)\n",
    "    \n",
    "    # 3. Converting to lower case and splitting\n",
    "    word_tokens= review_text.lower().split()\n",
    "    \n",
    "    # 4. Remove stopwords\n",
    "    le=WordNetLemmatizer()\n",
    "    stop_words= set(stopwords.words(\"english\"))     \n",
    "    word_tokens= [le.lemmatize(w) for w in word_tokens if not w in stop_words]\n",
    "    \n",
    "    cleaned_text=\" \".join(word_tokens)\n",
    "    return cleaned_text"
   ]
  },
  {
   "cell_type": "code",
   "execution_count": 52,
   "id": "871feb52-e180-4791-8eaa-20cafacc11f8",
   "metadata": {
    "tags": []
   },
   "outputs": [
    {
     "data": {
      "text/plain": [
       "0        I recently went through a breakup and she said...\n",
       "1        I do not know how to navigate these feelings n...\n",
       "2        So I have been with my bf for 5 months  and he...\n",
       "3        I am so exhausted of this Just when I think I ...\n",
       "4        I have been severly bullied since i was 5 till...\n",
       "                               ...                        \n",
       "20358    I took 50mg of seroquel a few hours after I dr...\n",
       "20359    that is what has happened to me last week And ...\n",
       "20360    Ever just feel alone in a house full of people...\n",
       "20361    Politicians Neighbors Corporations Society Cul...\n",
       "20362    I feel like I am just existing but for what I ...\n",
       "Name: text, Length: 20363, dtype: object"
      ]
     },
     "execution_count": 52,
     "metadata": {},
     "output_type": "execute_result"
    }
   ],
   "source": [
    "Data['text']"
   ]
  },
  {
   "cell_type": "markdown",
   "id": "819022ff-7559-4c2c-b405-3840377f25e9",
   "metadata": {},
   "source": [
    "Feature Selection"
   ]
  },
  {
   "cell_type": "code",
   "execution_count": 53,
   "id": "17f5f085-703f-49b1-8ecd-2d489842551c",
   "metadata": {
    "tags": []
   },
   "outputs": [],
   "source": [
    "x = Data[['text','label']]\n",
    "y = Data['Depressed_Control'].fillna(0)"
   ]
  },
  {
   "cell_type": "code",
   "execution_count": 54,
   "id": "7a64988f-55c3-4be5-a1d5-832dec64f108",
   "metadata": {
    "tags": []
   },
   "outputs": [],
   "source": [
    "from sklearn.feature_extraction.text import CountVectorizer\n",
    "from nltk.tokenize import word_tokenize\n",
    "x=Train['text']\n",
    "ctv = CountVectorizer(tokenizer = word_tokenize, token_pattern=None)\n",
    "ctv.fit(x)\n",
    "corpus_transformed = ctv.transform(x)"
   ]
  },
  {
   "cell_type": "markdown",
   "id": "cb4dec19-99db-4bca-a184-4d097bb0f83d",
   "metadata": {},
   "source": [
    "We can split the dataset into training and test set "
   ]
  },
  {
   "cell_type": "code",
   "execution_count": 55,
   "id": "830cbf1c-d567-47b0-a8df-f1d7ae7e281f",
   "metadata": {
    "tags": []
   },
   "outputs": [],
   "source": [
    "import warnings\n",
    "warnings.filterwarnings(\"ignore\")\n",
    "from sklearn.model_selection import train_test_split\n",
    "xtrain, xvalid, ytrain, yvalid = train_test_split(Train.text.values, y, \n",
    "                                                  stratify=y, \n",
    "                                                  random_state=42, \n",
    "                                                  test_size=0.1, shuffle=True)"
   ]
  },
  {
   "cell_type": "code",
   "execution_count": 56,
   "id": "822fdc20-131d-4101-bf07-389a8115906f",
   "metadata": {
    "tags": []
   },
   "outputs": [],
   "source": [
    "from sklearn.feature_extraction.text import TfidfVectorizer\n",
    "tfv = TfidfVectorizer(min_df=2,  max_features=None, \n",
    "            strip_accents='unicode', analyzer='word',token_pattern=r'\\w{1,}',\n",
    "            ngram_range=(1, 2), use_idf=1,smooth_idf=1,sublinear_tf=1,\n",
    "            stop_words = 'english')\n",
    "\n",
    "# Fitting TF-IDF to both training and test sets (semi-supervised learning)\n",
    "tfv.fit(list(xtrain) + list(xvalid))\n",
    "xtrain_tfv =  tfv.transform(xtrain) \n",
    "xvalid_tfv = tfv.transform(xvalid)"
   ]
  },
  {
   "cell_type": "code",
   "execution_count": 57,
   "id": "bdb5d380-6d8c-490a-88fb-b5053b7bc5f1",
   "metadata": {
    "tags": []
   },
   "outputs": [
    {
     "name": "stdout",
     "output_type": "stream",
     "text": [
      "(18326,)\n",
      "(2037,)\n"
     ]
    }
   ],
   "source": [
    "print (xtrain.shape)\n",
    "print (xvalid.shape)"
   ]
  },
  {
   "cell_type": "markdown",
   "id": "2d454748-3e46-460c-b163-e42773ecd31e",
   "metadata": {},
   "source": [
    "We can use different models for the comparison and therir predicted score and log_loss"
   ]
  },
  {
   "cell_type": "code",
   "execution_count": 58,
   "id": "23f60127-b0a2-4580-af5d-9d34e07bc824",
   "metadata": {
    "tags": []
   },
   "outputs": [],
   "source": [
    "from sklearn import preprocessing, decomposition, model_selection, metrics, pipeline\n",
    "from sklearn.linear_model import LogisticRegression\n",
    "from sklearn.metrics import log_loss\n",
    "clf = LogisticRegression(C=1.0)\n",
    "clf.fit(xtrain_tfv, ytrain)\n",
    "predictions = clf.predict_proba(xvalid_tfv)\n",
    "#print (\"log_loss: %0.3f \" %log_loss(yvalid, predictions))"
   ]
  },
  {
   "cell_type": "code",
   "execution_count": 59,
   "id": "524ccb58-4f53-43a8-b8e9-4e6e55cc13cd",
   "metadata": {
    "tags": []
   },
   "outputs": [
    {
     "name": "stdout",
     "output_type": "stream",
     "text": [
      "log_loss: 0.114 \n"
     ]
    }
   ],
   "source": [
    "from sklearn.naive_bayes import MultinomialNB\n",
    "clf = MultinomialNB()\n",
    "clf.fit(xtrain_tfv, ytrain)\n",
    "predictions = clf.predict_proba(xvalid_tfv)\n",
    "print (\"log_loss: %0.3f \" % log_loss(yvalid, predictions))"
   ]
  },
  {
   "cell_type": "code",
   "execution_count": 60,
   "id": "019a746c-37e6-4ee9-90ff-a1ce0b2cb171",
   "metadata": {
    "tags": []
   },
   "outputs": [
    {
     "data": {
      "text/html": [
       "<style>#sk-container-id-2 {color: black;background-color: white;}#sk-container-id-2 pre{padding: 0;}#sk-container-id-2 div.sk-toggleable {background-color: white;}#sk-container-id-2 label.sk-toggleable__label {cursor: pointer;display: block;width: 100%;margin-bottom: 0;padding: 0.3em;box-sizing: border-box;text-align: center;}#sk-container-id-2 label.sk-toggleable__label-arrow:before {content: \"▸\";float: left;margin-right: 0.25em;color: #696969;}#sk-container-id-2 label.sk-toggleable__label-arrow:hover:before {color: black;}#sk-container-id-2 div.sk-estimator:hover label.sk-toggleable__label-arrow:before {color: black;}#sk-container-id-2 div.sk-toggleable__content {max-height: 0;max-width: 0;overflow: hidden;text-align: left;background-color: #f0f8ff;}#sk-container-id-2 div.sk-toggleable__content pre {margin: 0.2em;color: black;border-radius: 0.25em;background-color: #f0f8ff;}#sk-container-id-2 input.sk-toggleable__control:checked~div.sk-toggleable__content {max-height: 200px;max-width: 100%;overflow: auto;}#sk-container-id-2 input.sk-toggleable__control:checked~label.sk-toggleable__label-arrow:before {content: \"▾\";}#sk-container-id-2 div.sk-estimator input.sk-toggleable__control:checked~label.sk-toggleable__label {background-color: #d4ebff;}#sk-container-id-2 div.sk-label input.sk-toggleable__control:checked~label.sk-toggleable__label {background-color: #d4ebff;}#sk-container-id-2 input.sk-hidden--visually {border: 0;clip: rect(1px 1px 1px 1px);clip: rect(1px, 1px, 1px, 1px);height: 1px;margin: -1px;overflow: hidden;padding: 0;position: absolute;width: 1px;}#sk-container-id-2 div.sk-estimator {font-family: monospace;background-color: #f0f8ff;border: 1px dotted black;border-radius: 0.25em;box-sizing: border-box;margin-bottom: 0.5em;}#sk-container-id-2 div.sk-estimator:hover {background-color: #d4ebff;}#sk-container-id-2 div.sk-parallel-item::after {content: \"\";width: 100%;border-bottom: 1px solid gray;flex-grow: 1;}#sk-container-id-2 div.sk-label:hover label.sk-toggleable__label {background-color: #d4ebff;}#sk-container-id-2 div.sk-serial::before {content: \"\";position: absolute;border-left: 1px solid gray;box-sizing: border-box;top: 0;bottom: 0;left: 50%;z-index: 0;}#sk-container-id-2 div.sk-serial {display: flex;flex-direction: column;align-items: center;background-color: white;padding-right: 0.2em;padding-left: 0.2em;position: relative;}#sk-container-id-2 div.sk-item {position: relative;z-index: 1;}#sk-container-id-2 div.sk-parallel {display: flex;align-items: stretch;justify-content: center;background-color: white;position: relative;}#sk-container-id-2 div.sk-item::before, #sk-container-id-2 div.sk-parallel-item::before {content: \"\";position: absolute;border-left: 1px solid gray;box-sizing: border-box;top: 0;bottom: 0;left: 50%;z-index: -1;}#sk-container-id-2 div.sk-parallel-item {display: flex;flex-direction: column;z-index: 1;position: relative;background-color: white;}#sk-container-id-2 div.sk-parallel-item:first-child::after {align-self: flex-end;width: 50%;}#sk-container-id-2 div.sk-parallel-item:last-child::after {align-self: flex-start;width: 50%;}#sk-container-id-2 div.sk-parallel-item:only-child::after {width: 0;}#sk-container-id-2 div.sk-dashed-wrapped {border: 1px dashed gray;margin: 0 0.4em 0.5em 0.4em;box-sizing: border-box;padding-bottom: 0.4em;background-color: white;}#sk-container-id-2 div.sk-label label {font-family: monospace;font-weight: bold;display: inline-block;line-height: 1.2em;}#sk-container-id-2 div.sk-label-container {text-align: center;}#sk-container-id-2 div.sk-container {/* jupyter's `normalize.less` sets `[hidden] { display: none; }` but bootstrap.min.css set `[hidden] { display: none !important; }` so we also need the `!important` here to be able to override the default hidden behavior on the sphinx rendered scikit-learn.org. See: https://github.com/scikit-learn/scikit-learn/issues/21755 */display: inline-block !important;position: relative;}#sk-container-id-2 div.sk-text-repr-fallback {display: none;}</style><div id=\"sk-container-id-2\" class=\"sk-top-container\"><div class=\"sk-text-repr-fallback\"><pre>DecisionTreeClassifier(random_state=0)</pre><b>In a Jupyter environment, please rerun this cell to show the HTML representation or trust the notebook. <br />On GitHub, the HTML representation is unable to render, please try loading this page with nbviewer.org.</b></div><div class=\"sk-container\" hidden><div class=\"sk-item\"><div class=\"sk-estimator sk-toggleable\"><input class=\"sk-toggleable__control sk-hidden--visually\" id=\"sk-estimator-id-2\" type=\"checkbox\" checked><label for=\"sk-estimator-id-2\" class=\"sk-toggleable__label sk-toggleable__label-arrow\">DecisionTreeClassifier</label><div class=\"sk-toggleable__content\"><pre>DecisionTreeClassifier(random_state=0)</pre></div></div></div></div></div>"
      ],
      "text/plain": [
       "DecisionTreeClassifier(random_state=0)"
      ]
     },
     "execution_count": 60,
     "metadata": {},
     "output_type": "execute_result"
    }
   ],
   "source": [
    "from sklearn.tree import DecisionTreeClassifier\n",
    "clf = DecisionTreeClassifier(random_state=0)\n",
    "clf.fit(xtrain_tfv, ytrain)"
   ]
  },
  {
   "cell_type": "code",
   "execution_count": 61,
   "id": "e9321c65-7a75-4c66-b60c-31aa2e48af2d",
   "metadata": {
    "tags": []
   },
   "outputs": [],
   "source": [
    "y_pred = clf.predict(xvalid_tfv)"
   ]
  },
  {
   "cell_type": "code",
   "execution_count": 62,
   "id": "8468844a-3093-46c9-a98e-825cd6af1306",
   "metadata": {
    "tags": []
   },
   "outputs": [
    {
     "data": {
      "text/plain": [
       "array([0., 0., 0., ..., 0., 0., 0.])"
      ]
     },
     "execution_count": 62,
     "metadata": {},
     "output_type": "execute_result"
    }
   ],
   "source": [
    "y_pred"
   ]
  },
  {
   "cell_type": "markdown",
   "id": "e24475fa-9500-4775-b86d-0d2999e1ef2a",
   "metadata": {},
   "source": [
    "In the above project we predict the patients depressed score with the help of two different methods"
   ]
  },
  {
   "cell_type": "markdown",
   "id": "53f5b799-290e-490d-8880-375092a4f4dd",
   "metadata": {},
   "source": [
    "We have to measure evaluation matrix and statistical significant "
   ]
  },
  {
   "cell_type": "code",
   "execution_count": 63,
   "id": "5b52ec77-4bc8-45d5-b1af-a8cfedb96abf",
   "metadata": {
    "tags": []
   },
   "outputs": [
    {
     "name": "stdout",
     "output_type": "stream",
     "text": [
      "               precision    recall  f1-score   support\n",
      "\n",
      "   clean_text       0.99      0.99      0.99      2022\n",
      "is_depression       0.04      0.07      0.05        15\n",
      "\n",
      "     accuracy                           0.98      2037\n",
      "    macro avg       0.52      0.53      0.52      2037\n",
      " weighted avg       0.99      0.98      0.98      2037\n",
      "\n"
     ]
    }
   ],
   "source": [
    "from sklearn.metrics import classification_report\n",
    "target_names = ['clean_text','is_depression']\n",
    "print(classification_report(yvalid, y_pred, target_names=target_names))"
   ]
  },
  {
   "cell_type": "code",
   "execution_count": 64,
   "id": "3e207ac3-0483-4526-86fc-30a4e34247bc",
   "metadata": {
    "tags": []
   },
   "outputs": [
    {
     "name": "stdout",
     "output_type": "stream",
     "text": [
      "                                 OLS Regression Results                                \n",
      "=======================================================================================\n",
      "Dep. Variable:                      y   R-squared (uncentered):                   0.003\n",
      "Model:                            OLS   Adj. R-squared (uncentered):              0.002\n",
      "Method:                 Least Squares   F-statistic:                              5.671\n",
      "Date:                Fri, 17 Nov 2023   Prob (F-statistic):                      0.0173\n",
      "Time:                        02:46:33   Log-Likelihood:                          1635.8\n",
      "No. Observations:                2037   AIC:                                     -3270.\n",
      "Df Residuals:                    2036   BIC:                                     -3264.\n",
      "Df Model:                           1                                                  \n",
      "Covariance Type:            nonrobust                                                  \n",
      "=====================================================================================\n",
      "                        coef    std err          t      P>|t|      [0.025      0.975]\n",
      "-------------------------------------------------------------------------------------\n",
      "Depressed_Control     0.0667      0.028      2.381      0.017       0.012       0.122\n",
      "==============================================================================\n",
      "Omnibus:                     2985.981   Durbin-Watson:                   2.011\n",
      "Prob(Omnibus):                  0.000   Jarque-Bera (JB):           564197.161\n",
      "Skew:                           9.014   Prob(JB):                         0.00\n",
      "Kurtosis:                      82.514   Cond. No.                         1.00\n",
      "==============================================================================\n",
      "\n",
      "Notes:\n",
      "[1] R² is computed without centering (uncentered) since the model does not contain a constant.\n",
      "[2] Standard Errors assume that the covariance matrix of the errors is correctly specified.\n"
     ]
    }
   ],
   "source": [
    "import statsmodels.api as sm\n",
    "\n",
    "#fit logistic regression model\n",
    "model = sm.OLS(y_pred, yvalid).fit()\n",
    "\n",
    "#view model summary\n",
    "print(model.summary())"
   ]
  },
  {
   "cell_type": "code",
   "execution_count": 65,
   "id": "095db1d4-183f-4239-9c19-c8f5ddba90ef",
   "metadata": {
    "tags": []
   },
   "outputs": [
    {
     "name": "stdout",
     "output_type": "stream",
     "text": [
      "Depressed_Control    0.017336\n",
      "dtype: float64\n"
     ]
    }
   ],
   "source": [
    "print(model.pvalues)"
   ]
  },
  {
   "cell_type": "markdown",
   "id": "01b045de-42f7-4dd9-8704-657030d57051",
   "metadata": {},
   "source": [
    "p-value is less than 0.05 to be considered as statistically significant. It means data really represents the observed effect."
   ]
  },
  {
   "cell_type": "code",
   "execution_count": null,
   "id": "0b1df1d2-5aad-4de6-8e9e-234819480b73",
   "metadata": {},
   "outputs": [],
   "source": []
  }
 ],
 "metadata": {
  "kernelspec": {
   "display_name": "Python 3 (ipykernel)",
   "language": "python",
   "name": "python3"
  },
  "language_info": {
   "codemirror_mode": {
    "name": "ipython",
    "version": 3
   },
   "file_extension": ".py",
   "mimetype": "text/x-python",
   "name": "python",
   "nbconvert_exporter": "python",
   "pygments_lexer": "ipython3",
   "version": "3.11.5"
  }
 },
 "nbformat": 4,
 "nbformat_minor": 5
}
